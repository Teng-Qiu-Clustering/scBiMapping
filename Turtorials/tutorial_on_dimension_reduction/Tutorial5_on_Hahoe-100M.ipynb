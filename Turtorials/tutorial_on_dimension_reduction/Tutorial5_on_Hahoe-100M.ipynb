{
 "cells": [
  {
   "cell_type": "code",
   "execution_count": null,
   "id": "e32aded0-50f7-4db3-9d5c-515710b6b71e",
   "metadata": {
    "execution": {
     "iopub.execute_input": "2025-08-20T13:39:36.468844Z",
     "iopub.status.busy": "2025-08-20T13:39:36.468042Z",
     "iopub.status.idle": "2025-08-20T14:04:44.692948Z",
     "shell.execute_reply": "2025-08-20T14:04:44.692130Z",
     "shell.execute_reply.started": "2025-08-20T13:39:36.468702Z"
    },
    "tags": []
   },
   "outputs": [],
   "source": [
    "import anndata as ad\n",
    "merged_adata=ad.read_h5ad(\"merged_5000hvg_of_each_plate_merged_by_intersection.h5ad\")\n"
   ]
  },
  {
   "cell_type": "code",
   "execution_count": null,
   "id": "466db643-c5c4-4561-bd0c-ac08b19ecac3",
   "metadata": {
    "execution": {
     "iopub.execute_input": "2025-08-20T14:31:08.283450Z",
     "iopub.status.busy": "2025-08-20T14:31:08.283146Z"
    },
    "tags": []
   },
   "outputs": [],
   "source": [
    "\n",
    "n_embedding = 30 # nc or 30\n",
    "scBiMapping_DR(adata,n_embedding = n_embedding)"
   ]
  },
  {
   "cell_type": "code",
   "execution_count": null,
   "id": "d016e42e-7d40-4977-8999-3a32f9e23553",
   "metadata": {
    "tags": []
   },
   "outputs": [],
   "source": [
    "import numpy as np\n",
    "import scanpy as sc  \n",
    "\n",
    "np.random.seed(42) \n",
    "sample_indices = np.random.choice(adata.n_obs, 1000000, replace=False)\n",
    "sampled_adata = adata[sample_indices]\n",
    " \n",
    "sc.pp.neighbors(sampled_adata, n_neighbors=5, use_rep='U',random_state=42)  \n",
    "sc.tl.umap(sampled_adata, random_state=42, init_pos='random')  \n",
    "print('end of umap...')"
   ]
  },
  {
   "cell_type": "code",
   "execution_count": null,
   "id": "8d11a238-0146-43e0-b4cd-f701e7f38735",
   "metadata": {
    "tags": []
   },
   "outputs": [],
   "source": [
    "\n",
    "sc.pl.umap(sampled_adata, color=['plate'])  \n",
    "sc.pl.umap(sampled_adata, color=['phase']) \n"
   ]
  }
 ],
 "metadata": {
  "kernelspec": {
   "display_name": "Python 3 (ipykernel)",
   "language": "python",
   "name": "python3"
  },
  "language_info": {
   "codemirror_mode": {
    "name": "ipython",
    "version": 3
   },
   "file_extension": ".py",
   "mimetype": "text/x-python",
   "name": "python",
   "nbconvert_exporter": "python",
   "pygments_lexer": "ipython3",
   "version": "3.8.13"
  }
 },
 "nbformat": 4,
 "nbformat_minor": 5
}
