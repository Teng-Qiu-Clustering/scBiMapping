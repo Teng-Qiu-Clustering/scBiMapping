{
 "cells": [
  {
   "cell_type": "code",
   "execution_count": 1,
   "id": "e32aded0-50f7-4db3-9d5c-515710b6b71e",
   "metadata": {
    "execution": {
     "iopub.execute_input": "2025-08-20T13:39:36.468844Z",
     "iopub.status.busy": "2025-08-20T13:39:36.468042Z",
     "iopub.status.idle": "2025-08-20T14:04:44.692948Z",
     "shell.execute_reply": "2025-08-20T14:04:44.692130Z",
     "shell.execute_reply.started": "2025-08-20T13:39:36.468702Z"
    },
    "tags": []
   },
   "outputs": [
    {
     "name": "stderr",
     "output_type": "stream",
     "text": [
      "/opt/software/python/lib/python3.8/site-packages/setuptools_scm/_integration/setuptools.py:31: RuntimeWarning: \n",
      "ERROR: setuptools==56.0.0 is used in combination with setuptools_scm>=8.x\n",
      "\n",
      "Your build configuration is incomplete and previously worked by accident!\n",
      "setuptools_scm requires setuptools>=61\n",
      "\n",
      "Suggested workaround if applicable:\n",
      " - migrating from the deprecated setup_requires mechanism to pep517/518\n",
      "   and using a pyproject.toml to declare build dependencies\n",
      "   which are reliably pre-installed before running the build tools\n",
      "\n",
      "  warnings.warn(\n"
     ]
    },
    {
     "name": "stdout",
     "output_type": "stream",
     "text": [
      "Merged AnnData shape: (100648790, 1674)\n"
     ]
    }
   ],
   "source": [
    "import anndata as ad\n",
    "merged_adata=ad.read_h5ad(\"merged_5000hvg_of_each_plate_merged_by_intersection.h5ad\")\n",
    "\n",
    "print(f\"Merged AnnData shape: {merged_adata.shape}\")\n"
   ]
  },
  {
   "cell_type": "code",
   "execution_count": 3,
   "id": "457637ad-624f-4436-814b-4f590a105f47",
   "metadata": {
    "execution": {
     "iopub.execute_input": "2025-08-20T14:05:52.460428Z",
     "iopub.status.busy": "2025-08-20T14:05:52.459899Z",
     "iopub.status.idle": "2025-08-20T14:05:52.466356Z",
     "shell.execute_reply": "2025-08-20T14:05:52.465016Z",
     "shell.execute_reply.started": "2025-08-20T14:05:52.460402Z"
    },
    "tags": []
   },
   "outputs": [
    {
     "name": "stdout",
     "output_type": "stream",
     "text": [
      "AnnData object with n_obs × n_vars = 100648790 × 1674\n",
      "    obs: 'sample', 'gene_count', 'tscp_count', 'mread_count', 'drugname_drugconc', 'drug', 'cell_line', 'sublibrary', 'BARCODE', 'pcnt_mito', 'S_score', 'G2M_score', 'phase', 'pass_filter', 'cell_name', 'plate'\n"
     ]
    }
   ],
   "source": [
    "print(merged_adata)"
   ]
  },
  {
   "cell_type": "code",
   "execution_count": 4,
   "id": "0fd6e371-1262-4155-a1ab-dd4ee5f7334f",
   "metadata": {
    "execution": {
     "iopub.execute_input": "2025-08-20T14:05:58.315127Z",
     "iopub.status.busy": "2025-08-20T14:05:58.314408Z",
     "iopub.status.idle": "2025-08-20T14:06:17.696288Z",
     "shell.execute_reply": "2025-08-20T14:06:17.695452Z",
     "shell.execute_reply.started": "2025-08-20T14:05:58.315060Z"
    },
    "tags": []
   },
   "outputs": [],
   "source": [
    "from scBiMapping import scBiMapping_DR"
   ]
  },
  {
   "cell_type": "code",
   "execution_count": 6,
   "id": "d69be2c4-b3a2-48c1-a374-b1a3d53255f8",
   "metadata": {
    "execution": {
     "iopub.execute_input": "2025-08-20T14:30:49.904804Z",
     "iopub.status.busy": "2025-08-20T14:30:49.904024Z",
     "iopub.status.idle": "2025-08-20T14:31:08.109271Z",
     "shell.execute_reply": "2025-08-20T14:31:08.107162Z",
     "shell.execute_reply.started": "2025-08-20T14:30:49.904746Z"
    }
   },
   "outputs": [
    {
     "name": "stdout",
     "output_type": "stream",
     "text": [
      "\u001b[33mWARNING: Ignoring invalid distribution -nnoy (/opt/software/python/lib/python3.8/site-packages)\u001b[0m\u001b[33m\n",
      "\u001b[0m\u001b[33mWARNING: Ignoring invalid distribution -nnoy (/opt/software/python/lib/python3.8/site-packages)\u001b[0m\u001b[33m\n",
      "\u001b[0mLooking in indexes: http://st-mirrors.dcs.cloud/repository/pypi-proxy/simple/\n",
      "Collecting memory_profiler\n",
      "  Downloading http://st-mirrors.dcs.cloud/repository/pypi-proxy/packages/memory-profiler/0.61.0/memory_profiler-0.61.0-py3-none-any.whl (31 kB)\n",
      "Requirement already satisfied: psutil in /opt/software/python/lib/python3.8/site-packages (from memory_profiler) (5.9.4)\n",
      "\u001b[33mWARNING: Ignoring invalid distribution -nnoy (/opt/software/python/lib/python3.8/site-packages)\u001b[0m\u001b[33m\n",
      "\u001b[0mInstalling collected packages: memory_profiler\n",
      "\u001b[33mWARNING: Ignoring invalid distribution -nnoy (/opt/software/python/lib/python3.8/site-packages)\u001b[0m\u001b[33m\n",
      "\u001b[0mSuccessfully installed memory_profiler-0.61.0\n",
      "\u001b[33mWARNING: Ignoring invalid distribution -nnoy (/opt/software/python/lib/python3.8/site-packages)\u001b[0m\u001b[33m\n",
      "\u001b[0m\u001b[33mWARNING: Ignoring invalid distribution -nnoy (/opt/software/python/lib/python3.8/site-packages)\u001b[0m\u001b[33m\n",
      "\u001b[0m\u001b[33mWARNING: Ignoring invalid distribution -nnoy (/opt/software/python/lib/python3.8/site-packages)\u001b[0m\u001b[33m\n",
      "\u001b[0m\u001b[33mWARNING: You are using pip version 22.0.4; however, version 25.0.1 is available.\n",
      "You should consider upgrading via the '/opt/software/python/bin/python3.8 -m pip install --upgrade pip' command.\u001b[0m\u001b[33m\n",
      "\u001b[0m"
     ]
    }
   ],
   "source": [
    "!pip install memory_profiler"
   ]
  },
  {
   "cell_type": "code",
   "execution_count": 7,
   "id": "6d2c9b5a-4af3-454a-aaec-40c8f56e1f93",
   "metadata": {
    "execution": {
     "iopub.execute_input": "2025-08-20T14:31:08.114070Z",
     "iopub.status.busy": "2025-08-20T14:31:08.112949Z",
     "iopub.status.idle": "2025-08-20T14:31:08.186857Z",
     "shell.execute_reply": "2025-08-20T14:31:08.186067Z",
     "shell.execute_reply.started": "2025-08-20T14:31:08.114008Z"
    },
    "tags": []
   },
   "outputs": [],
   "source": [
    "%load_ext memory_profiler"
   ]
  },
  {
   "cell_type": "code",
   "execution_count": 8,
   "id": "0bf95641-54af-4880-8aab-0911d852462c",
   "metadata": {
    "execution": {
     "iopub.execute_input": "2025-08-20T14:31:08.188317Z",
     "iopub.status.busy": "2025-08-20T14:31:08.187947Z",
     "iopub.status.idle": "2025-08-20T14:31:08.207507Z",
     "shell.execute_reply": "2025-08-20T14:31:08.206123Z",
     "shell.execute_reply.started": "2025-08-20T14:31:08.188289Z"
    },
    "tags": []
   },
   "outputs": [],
   "source": [
    "adata = merged_adata"
   ]
  },
  {
   "cell_type": "code",
   "execution_count": 9,
   "id": "f9621a69-03be-4689-ac70-939cfb9417a0",
   "metadata": {
    "execution": {
     "iopub.execute_input": "2025-08-20T14:31:08.211773Z",
     "iopub.status.busy": "2025-08-20T14:31:08.211053Z",
     "iopub.status.idle": "2025-08-20T14:31:08.282043Z",
     "shell.execute_reply": "2025-08-20T14:31:08.281401Z",
     "shell.execute_reply.started": "2025-08-20T14:31:08.211721Z"
    },
    "tags": []
   },
   "outputs": [
    {
     "data": {
      "text/plain": [
       "AnnData object with n_obs × n_vars = 100648790 × 1674\n",
       "    obs: 'sample', 'gene_count', 'tscp_count', 'mread_count', 'drugname_drugconc', 'drug', 'cell_line', 'sublibrary', 'BARCODE', 'pcnt_mito', 'S_score', 'G2M_score', 'phase', 'pass_filter', 'cell_name', 'plate'"
      ]
     },
     "execution_count": 9,
     "metadata": {},
     "output_type": "execute_result"
    }
   ],
   "source": [
    "adata"
   ]
  },
  {
   "cell_type": "code",
   "execution_count": null,
   "id": "466db643-c5c4-4561-bd0c-ac08b19ecac3",
   "metadata": {
    "execution": {
     "iopub.execute_input": "2025-08-20T14:31:08.283450Z",
     "iopub.status.busy": "2025-08-20T14:31:08.283146Z"
    },
    "tags": []
   },
   "outputs": [],
   "source": [
    "%%time\n",
    "%%memit\n",
    "n_embedding = 30 # nc or 30\n",
    "scBiMapping_DR(adata,n_embedding = n_embedding)"
   ]
  },
  {
   "cell_type": "code",
   "execution_count": null,
   "id": "d016e42e-7d40-4977-8999-3a32f9e23553",
   "metadata": {
    "tags": []
   },
   "outputs": [],
   "source": [
    "import numpy as np\n",
    "import scanpy as sc  \n",
    "\n",
    "# 随机采样 1 万个点\n",
    "np.random.seed(42)  # 设置随机种子以确保结果可复现\n",
    "sample_indices = np.random.choice(adata.n_obs, 1000000, replace=False)\n",
    "sampled_adata = adata[sample_indices]\n",
    " \n",
    "sc.pp.neighbors(sampled_adata, n_neighbors=5, use_rep='U',random_state=42)  # 构建邻接图\n",
    "sc.tl.umap(sampled_adata, random_state=42, init_pos='random')  # 运行 UMAP\n",
    "print('end of umap...')"
   ]
  },
  {
   "cell_type": "code",
   "execution_count": null,
   "id": "8d11a238-0146-43e0-b4cd-f701e7f38735",
   "metadata": {
    "tags": []
   },
   "outputs": [],
   "source": [
    "# 为每种细胞类型手动分配颜色\n",
    "import matplotlib.colors as mcolors\n",
    "import numpy as np\n",
    "\n",
    "# # 生成126种不同的颜色\n",
    "# colors = list(mcolors.XKCD_COLORS.values()) + list(mcolors.CSS4_COLORS.values())\n",
    "# cell_types = sampled_adata.obs['cell_line'].cat.categories\n",
    "# color_map = {ct: colors[i] for i, ct in enumerate(cell_types)}\n",
    "\n",
    "sc.pl.umap(sampled_adata, \n",
    "           color=['cell_line'])  # 图例会太大，可以单独保存\n",
    "\n",
    "sc.pl.umap(sampled_adata, \n",
    "           color=['plate'])  # 图例会太大，可以单独保存\n",
    "\n",
    "sc.pl.umap(sampled_adata, \n",
    "           color=['phase'])  # 图例会太大，可以单独保存\n"
   ]
  },
  {
   "cell_type": "code",
   "execution_count": null,
   "id": "23654a43-0b71-47a7-bd0a-ad23eb0d4e19",
   "metadata": {},
   "outputs": [],
   "source": []
  },
  {
   "cell_type": "code",
   "execution_count": null,
   "id": "524fc203-5577-486f-ba20-36bc9da1534f",
   "metadata": {},
   "outputs": [],
   "source": []
  }
 ],
 "metadata": {
  "kernelspec": {
   "display_name": "Python 3 (ipykernel)",
   "language": "python",
   "name": "python3"
  },
  "language_info": {
   "codemirror_mode": {
    "name": "ipython",
    "version": 3
   },
   "file_extension": ".py",
   "mimetype": "text/x-python",
   "name": "python",
   "nbconvert_exporter": "python",
   "pygments_lexer": "ipython3",
   "version": "3.8.13"
  }
 },
 "nbformat": 4,
 "nbformat_minor": 5
}
