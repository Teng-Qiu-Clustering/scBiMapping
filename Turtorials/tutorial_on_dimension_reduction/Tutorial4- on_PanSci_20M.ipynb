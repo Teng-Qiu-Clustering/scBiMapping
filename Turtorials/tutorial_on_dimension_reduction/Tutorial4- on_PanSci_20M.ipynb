{
 "cells": [
  {
   "cell_type": "code",
   "execution_count": null,
   "id": "b8799ad1-8c5c-403b-97c8-f73843366483",
   "metadata": {
    "execution": {
     "iopub.execute_input": "2025-03-30T05:18:47.068121Z",
     "iopub.status.busy": "2025-03-30T05:18:47.067133Z",
     "iopub.status.idle": "2025-03-30T05:18:52.752709Z",
     "shell.execute_reply": "2025-03-30T05:18:52.751201Z",
     "shell.execute_reply.started": "2025-03-30T05:18:47.067972Z"
    },
    "tags": []
   },
   "outputs": [],
   "source": [
    "import anndata\n",
    "import scanpy as sc\n",
    "from scBiMapping import scBiMapping_DR"
   ]
  },
  {
   "cell_type": "code",
   "execution_count": null,
   "id": "b927ca57-0419-4438-a88d-92e08f0077c1",
   "metadata": {
    "execution": {
     "iopub.execute_input": "2025-03-30T05:18:52.754864Z",
     "iopub.status.busy": "2025-03-30T05:18:52.754456Z",
     "iopub.status.idle": "2025-03-30T05:34:06.460271Z",
     "shell.execute_reply": "2025-03-30T05:34:06.459146Z",
     "shell.execute_reply.started": "2025-03-30T05:18:52.754841Z"
    },
    "tags": []
   },
   "outputs": [],
   "source": [
    "adata = anndata.read_h5ad('GSE247719_20240213_PanSci_all_cells_adata.h5ad')"
   ]
  },
  {
   "cell_type": "code",
   "execution_count": null,
   "id": "03433efe-9d7a-44ae-88d1-c4ad02e8721d",
   "metadata": {
    "execution": {
     "iopub.execute_input": "2025-03-30T05:34:06.461484Z",
     "iopub.status.busy": "2025-03-30T05:34:06.461271Z",
     "iopub.status.idle": "2025-03-30T05:41:49.726609Z",
     "shell.execute_reply": "2025-03-30T05:41:49.725098Z",
     "shell.execute_reply.started": "2025-03-30T05:34:06.461464Z"
    },
    "tags": []
   },
   "outputs": [],
   "source": [
    "sc.pp.normalize_total(adata, target_sum=1e4)\n",
    "sc.pp.log1p(adata)\n",
    "sc.pp.highly_variable_genes(adata, n_top_genes=5000,subset=True,flavor='cell_ranger') \n",
    "  "
   ]
  },
  {
   "cell_type": "code",
   "execution_count": null,
   "id": "3bf939f3-923f-4d55-aa6e-21737b4d99c1",
   "metadata": {
    "execution": {
     "iopub.execute_input": "2025-03-30T05:41:49.728469Z",
     "iopub.status.busy": "2025-03-30T05:41:49.727940Z",
     "iopub.status.idle": "2025-03-30T05:50:08.092952Z",
     "shell.execute_reply": "2025-03-30T05:50:08.091545Z",
     "shell.execute_reply.started": "2025-03-30T05:41:49.728447Z"
    },
    "tags": []
   },
   "outputs": [],
   "source": [
    "n_embedding = 30 # nc or 30\n",
    "scBiMapping_DR(adata,n_embedding = n_embedding)\n",
    " "
   ]
  },
  {
   "cell_type": "code",
   "execution_count": null,
   "id": "c2509b0d-e878-42bb-9065-4b577cf745f2",
   "metadata": {
    "execution": {
     "iopub.execute_input": "2025-03-30T06:44:28.891799Z",
     "iopub.status.busy": "2025-03-30T06:44:28.891322Z",
     "iopub.status.idle": "2025-03-30T07:01:06.302270Z",
     "shell.execute_reply": "2025-03-30T07:01:06.300513Z",
     "shell.execute_reply.started": "2025-03-30T06:44:28.891778Z"
    },
    "tags": []
   },
   "outputs": [],
   "source": [
    "import numpy as np\n",
    "import scanpy as sc  \n",
    " \n",
    "np.random.seed(42) \n",
    "sample_indices = np.random.choice(adata.n_obs, 1000000, replace=False)\n",
    "sampled_adata = adata[sample_indices]\n",
    " \n",
    "sc.pp.neighbors(sampled_adata, use_rep='U')  \n",
    "sc.tl.umap(sampled_adata, random_state=42, init_pos='random') "
   ]
  }
 ],
 "metadata": {
  "kernelspec": {
   "display_name": "Python 3 (ipykernel)",
   "language": "python",
   "name": "python3"
  },
  "language_info": {
   "codemirror_mode": {
    "name": "ipython",
    "version": 3
   },
   "file_extension": ".py",
   "mimetype": "text/x-python",
   "name": "python",
   "nbconvert_exporter": "python",
   "pygments_lexer": "ipython3",
   "version": "3.8.13"
  }
 },
 "nbformat": 4,
 "nbformat_minor": 5
}
