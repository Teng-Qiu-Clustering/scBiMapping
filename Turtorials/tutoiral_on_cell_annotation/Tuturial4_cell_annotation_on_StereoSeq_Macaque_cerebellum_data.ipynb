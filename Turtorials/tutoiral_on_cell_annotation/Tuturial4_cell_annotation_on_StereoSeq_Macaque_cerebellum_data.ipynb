{
 "cells": [
  {
   "cell_type": "code",
   "execution_count": null,
   "id": "4ecb85f2-e386-440c-a1ee-daabf8bd7f25",
   "metadata": {
    "execution": {
     "iopub.execute_input": "2025-07-24T07:34:01.447975Z",
     "iopub.status.busy": "2025-07-24T07:34:01.446435Z",
     "iopub.status.idle": "2025-07-24T07:34:17.362625Z",
     "shell.execute_reply": "2025-07-24T07:34:17.361291Z",
     "shell.execute_reply.started": "2025-07-24T07:34:01.447814Z"
    },
    "tags": []
   },
   "outputs": [],
   "source": [
    "import os\n",
    "import warnings\n",
    "import anndata\n",
    "import scanpy as sc\n",
    "import numpy as np\n",
    "import pandas as pd\n",
    "from scBiMapping import scBiMapping_annotation"
   ]
  },
  {
   "cell_type": "code",
   "execution_count": null,
   "id": "84c159d4-8606-407e-95e1-4304675dc095",
   "metadata": {
    "execution": {
     "iopub.execute_input": "2025-07-24T07:34:19.591197Z",
     "iopub.status.busy": "2025-07-24T07:34:19.590725Z",
     "iopub.status.idle": "2025-07-24T07:34:55.352292Z",
     "shell.execute_reply": "2025-07-24T07:34:55.351023Z",
     "shell.execute_reply.started": "2025-07-24T07:34:19.591170Z"
    }
   },
   "outputs": [],
   "source": [
    "adata_ref_raw = anndata.read_h5ad('Macaque.sn.h5ad') # reference data\n",
    "sc.pp.normalize_total(adata_ref_raw, target_sum=1e4)\n",
    "sc.pp.log1p(adata_ref_raw)"
   ]
  },
  {
   "cell_type": "code",
   "execution_count": null,
   "id": "8c9a45f4-5375-4082-90d9-d0cfe57f0951",
   "metadata": {
    "collapsed": true,
    "execution": {
     "iopub.execute_input": "2025-07-24T07:55:34.713055Z",
     "iopub.status.busy": "2025-07-24T07:55:34.712419Z",
     "iopub.status.idle": "2025-07-24T09:46:42.390664Z",
     "shell.execute_reply": "2025-07-24T09:46:42.388427Z",
     "shell.execute_reply.started": "2025-07-24T07:55:34.713010Z"
    },
    "jupyter": {
     "outputs_hidden": true
    },
    "tags": []
   },
   "outputs": [],
   "source": [
    " \n",
    "dir_path = 'STDS0000244/' # Path of query slices\n",
    "files = os.listdir(dir_path)\n",
    "for file in files:\n",
    "    adata_query = anndata.read(f'{dir_path}{file}')\n",
    "    sc.pp.log1p(adata_query)\n",
    "\n",
    "    intersection_feature = list(set(adata_ref_raw.var_names) & set(adata_query.var_names))\n",
    "    adata_ref = adata_ref_raw[:,intersection_feature].copy()\n",
    "    adata_query = adata_query[:,intersection_feature]\n",
    " \n",
    "    # parameter setting \n",
    "    n_embedding = 30; K = 30; K_majority = 30; knnMethod = 'HNSW'; # one can also use: knnMethod = 'NNDescent'\n",
    "    adata_ref.obs['cell_annotation'] = adata_ref.obs['cluster']  # 15 cell types\n",
    "    # runing\n",
    "    celltype_predicted = scBiMapping_annotation(adata_ref, adata_query,normalization=normalization,n_embedding = n_embedding,K = K,K_majority = K_majority,knnMethod = knnMethod)\n",
    "    adata_query.obs['celltype_scBiMapping'] = pd.Categorical(celltype_predicted)\n",
    "    \n",
    "    adata_query.obs.to_csv(f\"scBiMapping_result/scBiMapping_{file.split('_')[2]}.csv\") "
   ]
  }
 ],
 "metadata": {
  "kernelspec": {
   "display_name": "Python 3 (ipykernel)",
   "language": "python",
   "name": "python3"
  },
  "language_info": {
   "codemirror_mode": {
    "name": "ipython",
    "version": 3
   },
   "file_extension": ".py",
   "mimetype": "text/x-python",
   "name": "python",
   "nbconvert_exporter": "python",
   "pygments_lexer": "ipython3",
   "version": "3.8.14"
  }
 },
 "nbformat": 4,
 "nbformat_minor": 5
}
