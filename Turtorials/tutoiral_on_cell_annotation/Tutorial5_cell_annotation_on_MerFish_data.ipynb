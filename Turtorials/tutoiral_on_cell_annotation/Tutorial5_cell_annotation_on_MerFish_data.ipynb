{
 "cells": [
  {
   "cell_type": "code",
   "execution_count": null,
   "id": "eaac0e2d",
   "metadata": {},
   "outputs": [],
   "source": [
    "import anndata \n",
    "import warnings  \n",
    "from scipy import sparse\n",
    "from scipy.sparse import *   \n",
    "import numpy as np\n",
    "import pandas as pd\n",
    "import sys\n",
    "warnings.filterwarnings('ignore')\n",
    "from scBiMapping import *"
   ]
  },
  {
   "cell_type": "code",
   "execution_count": null,
   "id": "6f2358ed",
   "metadata": {},
   "outputs": [],
   "source": [
    "#%% scRNA\n",
    "dir_in = 'allen-brain-cell-atlas/'\n",
    "dir_out = 'MerFish_and_stereSeq_annotation_results' \n",
    " \n",
    "scRNA_10xV2V3_version = '20230630' # 10x v2/v3 scRNA counts: '20230630'; \n",
    "Multiome_version = '20230830'; # '20230830'; \n",
    "ref_meta_version = '20230830'; #'20230630', '20230830', '20231215'\n",
    "Zhuang_MerFish_count_version = '20230830'; # '20230830'\n",
    "Zhuang_MerFish_meta_version = '20230830'; # '20230830', '20231215';\n",
    "Zhuang_MerFish_ccf_version = '20230830'; # '20230830'\n",
    " \n",
    "adata_ref = anndata.read_h5ad('scRNA_Zeng_all_genes_10Xv2_and_v3.h5ad') # # 10x v2/v3 scRNA counts: '20230630'; "
   ]
  },
  {
   "cell_type": "code",
   "execution_count": null,
   "id": "1fec7c24",
   "metadata": {},
   "outputs": [],
   "source": [
    "# preprocessing\n",
    "import scanpy as sc\n",
    "sc.pp.normalize_total(adata_ref, target_sum=1e4)\n",
    "sc.pp.log1p(adata_ref)\n",
    " \n",
    "import pandas as pd\n",
    "ref_meta = pd.read_csv(dir_in + '/metadata/WMB-10X/' + ref_meta_version + '/views/cell_metadata_with_cluster_annotation.csv',index_col = 'cell_label',dtype = {'cell_label':'str'})\n",
    "common_cells = list(set(ref_meta.index.values).intersection(set(adata_ref.obs_names.values))); \n",
    "\n",
    "print(len(common_cells)); print(adata_ref.shape); print(ref_meta.shape)\n",
    "\n",
    "\n",
    "adata_ref = adata_ref[common_cells,:] \n",
    "ref_meta_sub = ref_meta.loc[common_cells]\n",
    "adata_ref.obs = pd.concat([adata_ref.obs,ref_meta_sub], axis=1)    "
   ]
  },
  {
   "cell_type": "code",
   "execution_count": null,
   "id": "82b780bc",
   "metadata": {},
   "outputs": [],
   "source": [
    "#%% MerFish-1122\n",
    "monkey_indexes = [1,2,3] # 1,2,3 represents three mices\n",
    "xy = {1:{'x':'ccf_y','y':'ccf_z'},2:{'x':'ccf_y','y':'ccf_z'},3:{'x':'ccf_x','y':'ccf_y'}}\n",
    "for monkey_index in monkey_indexes: \n",
    "    name = 'Zhuang-ABCA-'+str(monkey_index)\n",
    "    print(name)\n",
    "    adata_query = anndata.read_h5ad(dir_in + '/expression_matrices/'+name+ '/' + Zhuang_MerFish_count_version + '/' +name+ '-log2.h5ad') \n",
    "\n",
    "    MerFish_meta = pd.read_csv(dir_in + '/metadata/' + name + '/' + Zhuang_MerFish_meta_version + '/views/cell_metadata_with_cluster_annotation.csv',index_col = 'cell_label',dtype = {'cell_label':'str'}) # equvalent to  MerFish_meta = Get_MerFish_MetaData(dir_in,Zhuang_MerFish_meta_version,name)\n",
    "    if not adata_query.obs_names.values.tolist() == MerFish_meta.index.tolist():\n",
    "        print(MerFish_meta.shape);   print(len(set(adata_query.obs_names.values.tolist()).intersection(set(MerFish_meta.index.tolist()))))\n",
    "        common_cells = list(set(adata_query.obs_names.values.tolist()).intersection(set(MerFish_meta.index.tolist())))\n",
    "        adata_query = adata_query[common_cells,:] \n",
    "        MerFish_meta = MerFish_meta.loc[common_cells]\n",
    "    adata_query.obs = pd.concat([adata_query.obs,MerFish_meta], axis=1)\n",
    "           \n",
    "    ccf = pd.read_csv(dir_in + '/metadata/'+name+'-CCF/' + Zhuang_MerFish_ccf_version + '/ccf_coordinates.csv',index_col = 'cell_label',dtype = {'cell_label':'str'})\n",
    "    adata_query = adata_query[ccf.index,:] \n",
    "    adata_query.obs[['ccf_x','ccf_y','ccf_z']] = ccf[['x','y','z']] \n",
    "    \n",
    "    # subset ref_data\n",
    "    adata_ref = adata_ref[:,adata_query.var_names]\n",
    "    print(adata_ref); print(adata_query)\n",
    "     \n",
    "    n_embedding = 100; K = 20; K_majority = 5；knnMethod = 'HNSW';  \n",
    "    CellType_Key_for_ref = ['class','subclass'] \n",
    "    \n",
    "    scBiMapping_annotation(adata_ref, adata_query,n_embedding = n_embedding,K = K,K_majority = K_majority,knnMethod = knnMethod,CellType_Key_for_ref = CellType_Key_for_ref)\n",
    "    print(adata_query) # note that adata_query is a anndata; the prediction results are also stored in it.\n",
    "\n",
    "    #%% evaluate accuracy \n",
    "    # Case 1 \n",
    "    y_true = adata_query.obs['class']\n",
    "    y_pred = adata_query.obs['cell_type_predicted1']\n",
    "    print('case 1: class prediction...')\n",
    "    accuracy,precision,recall,f1_score = evaluate_classification(y_true, y_pred)\n",
    "\n",
    "    # Case 2  \n",
    "    y_true = adata_query.obs['subclass']\n",
    "    y_pred = adata_query.obs['cell_type_predicted2']\n",
    "    print('case 2: subclass prediction...')\n",
    "    accuracy,precision,recall,f1_score = evaluate_classification(y_true, y_pred)\n",
    "  "
   ]
  }
 ],
 "metadata": {
  "language_info": {
   "name": "python"
  }
 },
 "nbformat": 4,
 "nbformat_minor": 5
}
